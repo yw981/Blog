{
 "cells": [
  {
   "cell_type": "markdown",
   "metadata": {},
   "source": [
    "Gini Index\n",
    "\n",
    "$$\n",
    "GINI(t) = 1- \\sum_j [ p(j|t) ]^2 \n",
    "$$\n",
    "\n",
    "$$\n",
    "GINI_{split} = \\sum_{i=1}^k \\frac{n_i}{n}GINI(i)\n",
    "$$\n",
    "\n",
    "$$\n",
    "Entropy(t) = - \\sum_j p(j|t)\\log p(j|t)\n",
    "$$\n",
    "\n",
    "$$\n",
    "GAIN_{split} = Entropy(p) - \\sum_{i=1}^k \\frac{n_i}{n}Entropy(i)\n",
    "$$\n",
    "\n",
    "$$\n",
    "Error(t) = 1 - \\max_i P(i|t)\n",
    "$$"
   ]
  },
  {
   "cell_type": "code",
   "execution_count": null,
   "metadata": {},
   "outputs": [],
   "source": []
  }
 ],
 "metadata": {
  "kernelspec": {
   "display_name": "Python 3",
   "language": "python",
   "name": "python3"
  },
  "language_info": {
   "codemirror_mode": {
    "name": "ipython",
    "version": 3
   },
   "file_extension": ".py",
   "mimetype": "text/x-python",
   "name": "python",
   "nbconvert_exporter": "python",
   "pygments_lexer": "ipython3",
   "version": "3.7.0"
  }
 },
 "nbformat": 4,
 "nbformat_minor": 2
}
