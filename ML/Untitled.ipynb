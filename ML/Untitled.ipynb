{
 "cells": [
  {
   "cell_type": "markdown",
   "metadata": {},
   "source": [
    "$ M \\in R^{N \\times N} $\n",
    "\n",
    "$ U^l \\in R^{K \\times N \\times N} $\n",
    "\n",
    "$ {N \\times N} $\n",
    "\n",
    "$ u_{i,j}^l = U_{\\cdot ,i,j}^l \\in R^K $\n",
    "\n",
    "$ D \\in R^{ N^2 \\times N^2 } $\n",
    "\n",
    "$ D_{iN+j,pN+q} $\n",
    "\n",
    "$ D_{iN+j,pN+q}^{\\prime} \\triangleq  \\| u_{i,j}^l - u_{i,j}^l \\| \\cdot L(i-p,j-q) $\n",
    "\n",
    "$ L(i-p,j-q) \\triangleq \\exp(-\\frac{a^2+b^2}{2\\epsilon}) $\n",
    "\n",
    "$ D_{a,b} = \\frac{D_{a,b}^{\\prime}}{\\textstyle\\sum_{a=1}^N{D_{a,b}^N}} $\n",
    "\n",
    "$$\n",
    "M \\gets D \\times M\n",
    "$$\n",
    "\n",
    "$$\n",
    "M \\gets D(U^l(W^)) \\times M\n",
    "$$"
   ]
  },
  {
   "cell_type": "code",
   "execution_count": null,
   "metadata": {},
   "outputs": [],
   "source": []
  }
 ],
 "metadata": {
  "kernelspec": {
   "display_name": "Python 3",
   "language": "python",
   "name": "python3"
  },
  "language_info": {
   "codemirror_mode": {
    "name": "ipython",
    "version": 3
   },
   "file_extension": ".py",
   "mimetype": "text/x-python",
   "name": "python",
   "nbconvert_exporter": "python",
   "pygments_lexer": "ipython3",
   "version": "3.7.0"
  }
 },
 "nbformat": 4,
 "nbformat_minor": 2
}
