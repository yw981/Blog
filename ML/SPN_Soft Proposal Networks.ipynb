{
 "cells": [
  {
   "cell_type": "markdown",
   "metadata": {},
   "source": [
    "$ M \\in R^{N \\times N} $\n",
    "\n",
    "$ U^l \\in R^{K \\times N \\times N} $\n",
    "\n",
    "$ {N \\times N} $\n",
    "\n",
    "$ u_{i,j}^l = U_{\\cdot ,i,j}^l \\in R^K $\n",
    "\n",
    "$ D \\in R^{ N^2 \\times N^2 } $\n",
    "\n",
    "$ D_{iN+j,pN+q} $\n",
    "\n",
    "$ D_{iN+j,pN+q}^{\\prime} \\triangleq  \\| u_{i,j}^l - u_{i,j}^l \\| \\cdot L(i-p,j-q) $\n",
    "\n",
    "$ L(i-p,j-q) \\triangleq \\exp(-\\frac{a^2+b^2}{2\\epsilon}) $\n",
    "\n",
    "$ D_{a,b} = \\frac{D_{a,b}^{\\prime}}{\\textstyle\\sum_{a=1}^N{D_{a,b}^N}} $\n",
    "\n",
    "$$\n",
    "M \\gets D \\times M\n",
    "$$\n",
    "\n",
    "$$\n",
    "M \\gets D(U^l(W^)) \\times M\n",
    "$$\n",
    "\n",
    "$ V \\in R^{N \\times N} $\n",
    "\n",
    "$$\n",
    "V_k = U_k^l(W^l) \\circ M, k=1,2, \\dots ,K \n",
    "$$\n",
    "\n",
    "$ y \\in R^C $\n",
    "\n",
    "$ E = \\ell(y,t) $\n",
    "\n",
    "$ \\ell(\\cdot) $\n",
    "\n",
    "$$\n",
    "W^l = W^l + \\Delta W(M) = W^l - \\eta \\frac{\\partial E}{\\partial W^l}(M)\n",
    "$$\n",
    "\n",
    "其中，$\\eta$表示学习率，$\\Delta W(M)$代表$W^l$随M而变化，因为梯度$\\frac{\\partial E}{\\partial W^l}$随而变化。"
   ]
  },
  {
   "cell_type": "code",
   "execution_count": null,
   "metadata": {},
   "outputs": [],
   "source": []
  }
 ],
 "metadata": {
  "kernelspec": {
   "display_name": "Python 3",
   "language": "python",
   "name": "python3"
  },
  "language_info": {
   "codemirror_mode": {
    "name": "ipython",
    "version": 3
   },
   "file_extension": ".py",
   "mimetype": "text/x-python",
   "name": "python",
   "nbconvert_exporter": "python",
   "pygments_lexer": "ipython3",
   "version": "3.7.0"
  }
 },
 "nbformat": 4,
 "nbformat_minor": 2
}
